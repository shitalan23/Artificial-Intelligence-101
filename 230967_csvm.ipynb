{
  "cells": [
    {
      "cell_type": "code",
      "execution_count": 6,
      "metadata": {
        "id": "TdKVdV0V3pxq"
      },
      "outputs": [],
      "source": [
        "import numpy as np\n",
        "import sklearn\n",
        "from scipy.linalg import khatri_rao\n",
        "from sklearn.svm import SVC\n",
        "\n",
        "# You are allowed to import any submodules of sklearn that learn linear models e.g. sklearn.svm etc\n",
        "# You are not allowed to use other libraries such as keras, tensorflow etc\n",
        "# You are not allowed to use any scipy routine other than khatri_rao\n",
        "\n",
        "# DO NOT CHANGE THE NAME OF THE METHODS my_fit, my_map etc BELOW\n",
        "# THESE WILL BE INVOKED BY THE EVALUATION SCRIPT. CHANGING THESE NAMES WILL CAUSE EVALUATION FAILURE\n",
        "\n",
        "# You may define any new functions, variables, classes here\n",
        "# For example, functions to calculate next coordinate or step length\n",
        "\n",
        "################################\n",
        "# Non Editable Region Starting #\n",
        "################################\n",
        "def my_fit( X_train, y_train ):\n",
        "################################\n",
        "#  Non Editable Region Ending  #\n",
        "################################\n",
        "\n",
        "    # Use this method to train your model using training CRPs\n",
        "    # X_train has 32 columns containing the challeenge bits\n",
        "    # y_train contains the responses\n",
        "\n",
        "    # THE RETURNED MODEL SHOULD BE A SINGLE VECTOR AND A BIAS TERM\n",
        "    # If you do not wish to use a bias term, set it to 0\n",
        "\n",
        "    X_train_feature_map = my_map(X_train)\n",
        "\n",
        "    #continue from here\n",
        "    svm_model = SVC(kernel='linear', C=1.0)\n",
        "\n",
        "    svm_model.fit(X_train_feature_map, y_train)\n",
        "\n",
        "    w = svm_model.coef_.flatten()\n",
        "    b = svm_model.intercept_[0]\n",
        "\n",
        "\n",
        "    return w,b\n",
        "\n",
        "################################\n",
        "# Non Editable Region Starting #\n",
        "################################\n",
        "def my_map( X ):\n",
        "################################\n",
        "#  Non Editable Region Ending  #\n",
        "################################\n",
        "    # Create polynomial features\n",
        "    feat=np.zeros((X.shape[0],528),dtype='int')\n",
        "    u=np.hstack((1-2*X,np.ones((X.shape[0],1),dtype='int')))\n",
        "    for i in range(30,-1,-1):\n",
        "      u[:,i]=np.multiply(u[:,i],u[:,i+1])\n",
        "    for p in range(0,X.shape[0]):\n",
        "    # # Use this method to create features.\n",
        "    # It is likely that my_fit will internally call my_map to create features for train points\n",
        "      v=u[p,:].reshape(33,1)\n",
        "      result=np.triu(v*v.T,k=1)\n",
        "      feat[p]=result[result!=0]\n",
        "    return feat"
      ]
    },
    {
      "cell_type": "code",
      "execution_count": 7,
      "metadata": {
        "id": "81euI2Fnvigw"
      },
      "outputs": [],
      "source": [
        "Z_trn = np.loadtxt( \"train.dat\" )\n",
        "Z_tst = np.loadtxt( \"test.dat\" )\n",
        "\n",
        "n_trials = 5\n",
        "\n",
        "d_size = 0\n",
        "t_train = 0\n",
        "t_map = 0\n",
        "acc = 0"
      ]
    },
    {
      "cell_type": "code",
      "execution_count": 8,
      "metadata": {
        "id": "aw-y4oNdvP5o"
      },
      "outputs": [],
      "source": [
        "import time as tm\n",
        "for t in range( n_trials ):\n",
        "\ttic = tm.perf_counter()\n",
        "\tw,b = my_fit( Z_trn[:, :-1], Z_trn[:,-1] )\n",
        "\ttoc = tm.perf_counter()\n",
        "\tt_train += toc - tic\n",
        "\td_size += w.shape[0]\n",
        "\n",
        "\ttic = tm.perf_counter()\n",
        "\tfeat = my_map( Z_tst[:, :-1] )\n",
        "\ttoc = tm.perf_counter()\n",
        "\tt_map += toc - tic\n",
        "\n",
        "\tscores = np.dot(feat,w) + b\n",
        "\tpred = np.zeros_like( scores )\n",
        "\tpred[scores > 0] = 1\n",
        "\tacc += np.average( Z_tst[ :, -1 ] == pred )"
      ]
    },
    {
      "cell_type": "code",
      "execution_count": 9,
      "metadata": {
        "id": "ZD4NfAeDwEGf",
        "colab": {
          "base_uri": "https://localhost:8080/"
        },
        "outputId": "31a9c2e8-0206-4db9-b3b4-4e914f3ccb4a"
      },
      "outputs": [
        {
          "output_type": "stream",
          "name": "stdout",
          "text": [
            "528.0 518.1602368356001 0.28261791059994723 0.010199999999999987 98.98\n"
          ]
        }
      ],
      "source": [
        "d_size /= n_trials\n",
        "t_train /= n_trials\n",
        "t_map /= n_trials\n",
        "acc /= n_trials\n",
        "\n",
        "print( d_size, t_train, t_map, 1 - acc ,acc*100)"
      ]
    },
    {
      "cell_type": "markdown",
      "metadata": {
        "id": "RMlvZwi9wLSW"
      },
      "source": []
    }
  ],
  "metadata": {
    "colab": {
      "provenance": [],
      "gpuType": "T4"
    },
    "kernelspec": {
      "display_name": "Python 3",
      "name": "python3"
    },
    "language_info": {
      "name": "python"
    },
    "accelerator": "GPU"
  },
  "nbformat": 4,
  "nbformat_minor": 0
}